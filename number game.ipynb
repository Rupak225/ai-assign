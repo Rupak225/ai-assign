{
 "cells": [
  {
   "cell_type": "code",
   "execution_count": 1,
   "id": "8d7d4f98",
   "metadata": {},
   "outputs": [
    {
     "name": "stdout",
     "output_type": "stream",
     "text": [
      "Welcome to the Number Guessing Game!\n",
      "I've picked a number between 1 and 100. Can you guess it?\n",
      "Enter your guess: 20\n",
      "Too low! Try guessing a higher number.\n",
      "Enter your guess: 40\n",
      "Too low! Try guessing a higher number.\n",
      "Enter your guess: 70\n",
      "Too high! Try guessing a lower number.\n",
      "Enter your guess: 60\n",
      "Too high! Try guessing a lower number.\n",
      "Enter your guess: 45\n",
      "Too low! Try guessing a higher number.\n",
      "Enter your guess: 55\n",
      "Too high! Try guessing a lower number.\n",
      "Enter your guess: 50\n",
      "Too high! Try guessing a lower number.\n",
      "Enter your guess: 47\n",
      "Congratulations! You've guessed the correct number 47 in 8 attempts.\n"
     ]
    }
   ],
   "source": [
    "import random\n",
    "\n",
    "def guess_number():\n",
    "    \n",
    "    secret_number = random.randint(1, 100)\n",
    "    attempts = 0\n",
    "    \n",
    "    print(\"Welcome to the Number Guessing Game!\")\n",
    "    print(\"I've picked a number between 1 and 100. Can you guess it?\")\n",
    "    \n",
    "    while True:\n",
    "        guess = int(input(\"Enter your guess: \"))\n",
    "        attempts += 1\n",
    "        \n",
    "        if guess < secret_number:\n",
    "            print(\"Too low! Try guessing a higher number.\")\n",
    "        elif guess > secret_number:\n",
    "            print(\"Too high! Try guessing a lower number.\")\n",
    "        else:\n",
    "            print(f\"Congratulations! You've guessed the correct number {secret_number} in {attempts} attempts.\")\n",
    "            break\n",
    "\n",
    "\n",
    "guess_number()"
   ]
  },
  {
   "cell_type": "code",
   "execution_count": null,
   "id": "09048304",
   "metadata": {},
   "outputs": [],
   "source": []
  }
 ],
 "metadata": {
  "kernelspec": {
   "display_name": "Python 3 (ipykernel)",
   "language": "python",
   "name": "python3"
  },
  "language_info": {
   "codemirror_mode": {
    "name": "ipython",
    "version": 3
   },
   "file_extension": ".py",
   "mimetype": "text/x-python",
   "name": "python",
   "nbconvert_exporter": "python",
   "pygments_lexer": "ipython3",
   "version": "3.11.5"
  }
 },
 "nbformat": 4,
 "nbformat_minor": 5
}
